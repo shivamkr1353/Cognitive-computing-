{
 "cells": [
  {
   "cell_type": "markdown",
   "id": "7436fdbd-b38b-40c7-a580-f6fd28be6c26",
   "metadata": {},
   "source": [
    "WAP to print your name three times\n"
   ]
  },
  {
   "cell_type": "code",
   "execution_count": 1,
   "id": "7b3c2e0c-4a98-46ab-a044-6ea10e95d7ff",
   "metadata": {},
   "outputs": [
    {
     "name": "stdout",
     "output_type": "stream",
     "text": [
      "Shivam Kumar\n",
      "Shivam Kumar\n",
      "Shivam Kumar\n"
     ]
    }
   ],
   "source": [
    "for i in range(3):\n",
    "    print('Shivam Kumar')"
   ]
  },
  {
   "cell_type": "markdown",
   "id": "297b42da-698b-4848-b19b-0530a71ecccc",
   "metadata": {},
   "source": [
    " WAP to add three numbers and print the result."
   ]
  },
  {
   "cell_type": "code",
   "execution_count": 2,
   "id": "93ba925f-d34a-449e-88ce-4f8550177371",
   "metadata": {},
   "outputs": [
    {
     "name": "stdout",
     "output_type": "stream",
     "text": [
      "Sum  12 + 33 + 52 = 97\n"
     ]
    }
   ],
   "source": [
    "a=12\n",
    "b=33\n",
    "c=52\n",
    "print(\"Sum \",a,'+',b,'+',c,'=',a+b+c)"
   ]
  },
  {
   "cell_type": "markdown",
   "id": "a7a3148a-79ba-460c-bca0-6c8addce9db2",
   "metadata": {},
   "source": [
    "WAP to concatinate three strings and print the result."
   ]
  },
  {
   "cell_type": "code",
   "execution_count": 3,
   "id": "cc7d3345-3452-4a90-ba63-7cad5ec1b638",
   "metadata": {},
   "outputs": [
    {
     "name": "stdout",
     "output_type": "stream",
     "text": [
      "Thapar + Institute + Patiala = Thapar Institute Patiala\n"
     ]
    }
   ],
   "source": [
    "a='Thapar'\n",
    "b='Institute'\n",
    "c='Patiala'\n",
    "print(a,'+',b,'+',c,'=',a+' '+b+' '+c)"
   ]
  },
  {
   "cell_type": "code",
   "execution_count": null,
   "id": "0b0a3445-03b4-4943-9691-74adc928c9bc",
   "metadata": {},
   "outputs": [],
   "source": [
    "WAP to print the table of 7, 9."
   ]
  },
  {
   "cell_type": "code",
   "execution_count": 9,
   "id": "8e31e3ea-0c28-4ecd-915a-4410babeb41e",
   "metadata": {},
   "outputs": [
    {
     "name": "stdout",
     "output_type": "stream",
     "text": [
      "7 * 1 = 7\n",
      "7 * 2 = 14\n",
      "7 * 3 = 21\n",
      "7 * 4 = 28\n",
      "7 * 5 = 35\n",
      "7 * 6 = 42\n",
      "7 * 7 = 49\n",
      "7 * 8 = 56\n",
      "7 * 9 = 63\n",
      "7 * 10 = 70\n"
     ]
    }
   ],
   "source": [
    "x=7\n",
    "for i in range(1,11):\n",
    "    print(x,'*',i,'=',x*i)"
   ]
  },
  {
   "cell_type": "code",
   "execution_count": 11,
   "id": "ed00c9e5-6847-41cd-88d5-113f29a769a4",
   "metadata": {},
   "outputs": [
    {
     "name": "stdout",
     "output_type": "stream",
     "text": [
      "9 * 1 = 9\n",
      "9 * 2 = 18\n",
      "9 * 3 = 27\n",
      "9 * 4 = 36\n",
      "9 * 5 = 45\n",
      "9 * 6 = 54\n",
      "9 * 7 = 63\n",
      "9 * 8 = 72\n",
      "9 * 9 = 81\n",
      "9 * 10 = 90\n"
     ]
    }
   ],
   "source": [
    "x=9\n",
    "for i in range(1,11):\n",
    "    print(x,'*',i,'=',x*i)"
   ]
  },
  {
   "cell_type": "code",
   "execution_count": 4,
   "id": "4d72c742-2cfb-43a3-ab34-ce6fa536ba2d",
   "metadata": {},
   "outputs": [
    {
     "name": "stdin",
     "output_type": "stream",
     "text": [
      "enter a number: 11\n"
     ]
    },
    {
     "name": "stdout",
     "output_type": "stream",
     "text": [
      "11 * 1 = 11\n",
      "11 * 2 = 22\n",
      "11 * 3 = 33\n",
      "11 * 4 = 44\n",
      "11 * 5 = 55\n",
      "11 * 6 = 66\n",
      "11 * 7 = 77\n",
      "11 * 8 = 88\n",
      "11 * 9 = 99\n",
      "11 * 10 = 110\n"
     ]
    }
   ],
   "source": [
    "x=int(input('enter a number:'))\n",
    "for i in range(1,11):\n",
    "    print(x,'*',i,'=',x*i)\n",
    "    "
   ]
  },
  {
   "cell_type": "code",
   "execution_count": null,
   "id": "2e4ff3f2-a6b7-4631-b40d-bfc619b27ea8",
   "metadata": {},
   "outputs": [],
   "source": [
    "WAP to add all the numbers from 1 to n and n is given by user\n"
   ]
  },
  {
   "cell_type": "code",
   "execution_count": 5,
   "id": "a91ff84d-f4a4-4a88-8fde-a1ef34f93d8e",
   "metadata": {},
   "outputs": [
    {
     "name": "stdin",
     "output_type": "stream",
     "text": [
      "Enter a number: 9\n"
     ]
    },
    {
     "name": "stdout",
     "output_type": "stream",
     "text": [
      "45\n"
     ]
    }
   ],
   "source": [
    "sum=0\n",
    "n=int(input('Enter a number:'))\n",
    "for i in range(1,n+1):\n",
    "    sum+=i\n",
    "print(sum)"
   ]
  },
  {
   "cell_type": "markdown",
   "id": "810b9e4a-30ff-491a-a3b8-4c016cefc057",
   "metadata": {},
   "source": [
    " WAP to find max amoung three numbers and input from user. "
   ]
  },
  {
   "cell_type": "code",
   "execution_count": 6,
   "id": "094b58d9-6865-4c2c-b420-652a2e136a5c",
   "metadata": {},
   "outputs": [
    {
     "name": "stdin",
     "output_type": "stream",
     "text": [
      "enter a number: 23\n",
      "enter a number: 22\n",
      "enter a number: 21\n"
     ]
    },
    {
     "name": "stdout",
     "output_type": "stream",
     "text": [
      "23 is greater\n"
     ]
    }
   ],
   "source": [
    "x=int(input('enter a number:'))\n",
    "y=int(input('enter a number:'))\n",
    "z=int(input('enter a number:'))\n",
    "if(x>max(y,z)):\n",
    "    print(x,'is greater')\n",
    "else:\n",
    "    print(max(y,z),'is greater')"
   ]
  },
  {
   "cell_type": "markdown",
   "id": "55269610-f4fd-4acf-a95f-d0f882227036",
   "metadata": {},
   "source": [
    "WAP to add all numbers divisible by 7 and 9 from 1 to n and n is given by the user.\n"
   ]
  },
  {
   "cell_type": "code",
   "execution_count": 7,
   "id": "608b2e3e-ad2c-449c-9506-e3d852dbd440",
   "metadata": {},
   "outputs": [
    {
     "name": "stdin",
     "output_type": "stream",
     "text": [
      "enter a number: 126\n"
     ]
    },
    {
     "name": "stdout",
     "output_type": "stream",
     "text": [
      "63\n"
     ]
    }
   ],
   "source": [
    "sum=0\n",
    "a=int(input('enter a number:'))\n",
    "for i in range(1,a):\n",
    "    if(i%63==0):\n",
    "       sum+=i\n",
    "print(sum)"
   ]
  },
  {
   "cell_type": "code",
   "execution_count": null,
   "id": "33c04681-d6ad-4d6b-8a37-8e0a9fa9c759",
   "metadata": {},
   "outputs": [],
   "source": [
    "WAP to add all prime numbers from 1 to n and n is given by the user."
   ]
  },
  {
   "cell_type": "code",
   "execution_count": 8,
   "id": "7ff38b45-60e8-4540-b44d-7ff2661e2b0d",
   "metadata": {},
   "outputs": [
    {
     "name": "stdin",
     "output_type": "stream",
     "text": [
      "Enter a number: 15\n"
     ]
    },
    {
     "name": "stdout",
     "output_type": "stream",
     "text": [
      "41\n"
     ]
    }
   ],
   "source": [
    "sum=0\n",
    "n=int(input('Enter a number:'))\n",
    "for i in range(2,n+1):\n",
    "    is_prime=True\n",
    "    for j in range(2,int(i**0.5)+1):\n",
    "        if(i%j==0):\n",
    "            is_prime=False\n",
    "            break\n",
    "    if(is_prime==True):\n",
    "        sum+=i\n",
    "print(sum)"
   ]
  },
  {
   "cell_type": "markdown",
   "id": "3b7498c2-fdf3-4014-9770-54f1eb397f93",
   "metadata": {},
   "source": [
    "WAP using function that add all odd numbers from 1 to n, n is given by the user."
   ]
  },
  {
   "cell_type": "code",
   "execution_count": 9,
   "id": "24ff187e-b5ed-48d5-b4aa-b85f525240e0",
   "metadata": {},
   "outputs": [
    {
     "name": "stdin",
     "output_type": "stream",
     "text": [
      "enter any number: 15\n"
     ]
    },
    {
     "name": "stdout",
     "output_type": "stream",
     "text": [
      "sum of odd numbers from 1 to 15 is 64\n"
     ]
    }
   ],
   "source": [
    "def odd(n):\n",
    "    sum=0\n",
    "    for i in range(1,n+1):\n",
    "        if(i%2!=0):\n",
    "            sum+=i\n",
    "    return sum\n",
    "n=int(input('enter any number:'))\n",
    "print('sum of odd numbers from 1 to',n,'is',odd_sum(n))"
   ]
  },
  {
   "cell_type": "markdown",
   "id": "0c8ccf26-9da7-4ab5-9b2b-bb85d8affcc2",
   "metadata": {},
   "source": [
    "WAP using function that add all prime numbers from 1 to n, n given by the user."
   ]
  },
  {
   "cell_type": "code",
   "execution_count": 11,
   "id": "90218d72-f975-49c5-8dd7-fbed928147d5",
   "metadata": {},
   "outputs": [
    {
     "name": "stdin",
     "output_type": "stream",
     "text": [
      "Enter a number: 21\n"
     ]
    },
    {
     "name": "stdout",
     "output_type": "stream",
     "text": [
      "sum of all prime numbers upto 21 is 77\n"
     ]
    }
   ],
   "source": [
    "def prime(n):\n",
    "    sum=0\n",
    "    for i in range(2,n+1):\n",
    "        is_prime=True\n",
    "        for j in range(2,int(i**0.5)+1):\n",
    "            if(i%j==0):\n",
    "                is_prime=False\n",
    "                break\n",
    "        if(is_prime==True):\n",
    "            sum+=i\n",
    "    print(\"sum of all prime numbers upto\",n,'is',sum)\n",
    "n=int(input('Enter a number:'))   \n",
    "prime(n)"
   ]
  },
  {
   "cell_type": "code",
   "execution_count": null,
   "id": "0e7a2387-fa43-49cd-bee1-73358e6df233",
   "metadata": {},
   "outputs": [],
   "source": []
  }
 ],
 "metadata": {
  "kernelspec": {
   "display_name": "Python 3 (ipykernel)",
   "language": "python",
   "name": "python3"
  },
  "language_info": {
   "codemirror_mode": {
    "name": "ipython",
    "version": 3
   },
   "file_extension": ".py",
   "mimetype": "text/x-python",
   "name": "python",
   "nbconvert_exporter": "python",
   "pygments_lexer": "ipython3",
   "version": "3.13.1"
  }
 },
 "nbformat": 4,
 "nbformat_minor": 5
}
