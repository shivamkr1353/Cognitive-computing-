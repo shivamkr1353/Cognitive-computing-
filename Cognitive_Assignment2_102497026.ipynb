{
 "cells": [
  {
   "cell_type": "markdown",
   "id": "ab1f50ca-22e7-4cac-b4ae-642016d2d9de",
   "metadata": {},
   "source": [
    "1. Create a List L that is defined as= [10, 20, 30, 40, 50, 60, 70, 80].\n",
    "\n",
    "(i) WAP to add 200 and 300 to L. (ii) WAP to remove 10 and 30 from L. \n",
    "(iii) WAP to sort L in ascending order. (iv) WAP to sort L in descending order."
   ]
  },
  {
   "cell_type": "code",
   "execution_count": 2,
   "id": "914d3e21-6037-446c-a600-2577beb4f504",
   "metadata": {},
   "outputs": [
    {
     "name": "stdout",
     "output_type": "stream",
     "text": [
      "[10, 20, 30, 40, 50, 60, 70, 80, 200, 300]\n",
      "[20, 30, 40, 50, 60, 70, 80, 200, 300]\n",
      "[20, 40, 50, 60, 70, 80, 200, 300]\n",
      "[20, 40, 50, 60, 70, 80, 200, 300]\n",
      "[300, 200, 80, 70, 60, 50, 40, 20]\n"
     ]
    }
   ],
   "source": [
    "mylist=[10, 20, 30, 40, 50, 60, 70, 80]\n",
    "\n",
    "mylist.append(200)\n",
    "mylist.append(300)\n",
    "\n",
    "# mylist.extend([200,300])\n",
    "print(mylist)\n",
    "\n",
    "mylist.remove(10)\n",
    "print(mylist)\n",
    "mylist.remove(30)\n",
    "print(mylist)\n",
    "\n",
    "mylist.sort()\n",
    "print(mylist)\n",
    "mylist.sort(reverse=True)\n",
    "print(mylist)\n"
   ]
  },
  {
   "cell_type": "markdown",
   "id": "28735dc2-0145-4130-b309-4569be6fc304",
   "metadata": {},
   "source": [
    "2. Create a tuple of marks scored as scores = (45, 89.5, 76, 45.4, 89, 92, 58, 45) and\n",
    "perform the following operations using tuple functions:\n",
    "i. Identify the highest score and its index in the tuple.\n",
    "ii. Find the lowest score and count how many times it appears.\n",
    "iii. Reverse the tuple and return it as a list.\n",
    "iv. Check if a specific score ‘76’ (input by the user) is present in the tuple and\n",
    "print its first occurrence index, or a message saying it’s not present."
   ]
  },
  {
   "cell_type": "code",
   "execution_count": 48,
   "id": "a200ff50-2a4d-43ff-b4b3-d20c853751aa",
   "metadata": {},
   "outputs": [
    {
     "name": "stdout",
     "output_type": "stream",
     "text": [
      "Original Tuple : (45, 89.5, 76, 45.4, 89, 92, 58, 45)\n",
      "Maximum marks :  92\n",
      "Index of maximum marks is : 5\n",
      "Minimum marks :  45\n",
      "No. of times minimum marks occur : 2\n",
      "After reversing : [45, 58, 92, 89, 45.4, 76, 89.5, 45]\n",
      "Type of tuple <class 'list'>\n",
      "5\n"
     ]
    }
   ],
   "source": [
    "mytuple=(45, 89.5, 76, 45.4, 89, 92, 58, 45)\n",
    "\n",
    "print(\"Original Tuple :\",mytuple)\n",
    "\n",
    "print(\"Maximum marks : \",max(mytuple))\n",
    "\n",
    "for i in range (len(mytuple)) :\n",
    "    if(mytuple[i]==max(mytuple)):\n",
    "        print(\"Index of maximum marks is :\",i)\n",
    "\n",
    "\n",
    "print(\"Minimum marks : \",min(mytuple))\n",
    "count=0\n",
    "for i in range (len(mytuple)) :\n",
    "    if(mytuple[i]==min(mytuple)):\n",
    "        count+=1\n",
    "print(\"No. of times minimum marks occur :\",count)\n",
    "\n",
    "mytuple=list(mytuple)\n",
    "\n",
    "mytuple.reverse()\n",
    "# mytuple=tuple(mytuple)\n",
    "print(\"After reversing :\",mytuple)\n",
    "# mytuple=list(mytuple)\n",
    "\n",
    "print(\"Type of tuple\",type(mytuple))\n",
    "\n",
    "if 76  in mytuple:\n",
    "    print(mytuple.index(76))\n",
    "\n",
    "else:\n",
    "    print(\"Not found\")\n",
    "       \n",
    "        \n",
    "\n",
    "\n",
    "        \n",
    "\n",
    "\n"
   ]
  },
  {
   "cell_type": "markdown",
   "id": "750c60e3-d0f9-4c6b-9465-9dd5c614a178",
   "metadata": {},
   "source": [
    "3. WAP to create a list of 100 random numbers between 100 and 900. Count and print the: (i) All odd numbers (ii) All even numbers (iii) All prime numbers"
   ]
  },
  {
   "cell_type": "code",
   "execution_count": 6,
   "id": "39e9a87e-2466-4ae6-a76e-3da74bb31a4f",
   "metadata": {},
   "outputs": [
    {
     "name": "stdout",
     "output_type": "stream",
     "text": [
      "Random number is : 172\n",
      "\n",
      "Even numbers are :\n",
      "2,4,6,8,10,12,14,16,18,20,22,24,26,28,30,32,34,36,38,40,42,44,46,48,50,52,54,56,58,60,62,64,66,68,70,72,74,76,78,80,82,84,86,88,90,92,94,96,98,100,102,104,106,108,110,112,114,116,118,120,122,124,126,128,130,132,134,136,138,140,142,144,146,148,150,152,154,156,158,160,162,164,166,168,170,\n",
      "Odd numbers are :\n",
      "1,3,5,7,9,11,13,15,17,19,21,23,25,27,29,31,33,35,37,39,41,43,45,47,49,51,53,55,57,59,61,63,65,67,69,71,73,75,77,79,81,83,85,87,89,91,93,95,97,99,101,103,105,107,109,111,113,115,117,119,121,123,125,127,129,131,133,135,137,139,141,143,145,147,149,151,153,155,157,159,161,163,165,167,169,171,\n",
      "Prime numbers are :\n",
      "2,3,5,7,11,13,17,19,23,29,31,37,41,43,47,53,59,61,67,71,73,79,83,89,97,101,103,107,109,113,127,131,137,139,149,151,157,163,167,"
     ]
    }
   ],
   "source": [
    "import random \n",
    "\n",
    "number=random.randint(100,900)\n",
    "print(\"Random number is :\",number)\n",
    "\n",
    "print(\"\\nEven numbers are :\")\n",
    "\n",
    "for i in range(1,number):\n",
    "    if(i%2)==0:\n",
    "        print(i,end=\",\")\n",
    "print(\"\\nOdd numbers are :\")\n",
    "\n",
    "for i in range(1,number):\n",
    "    if(i%2)!=0:\n",
    "        print(i,end=\",\")\n",
    "\n",
    "print(\"\\nPrime numbers are :\")\n",
    "for i in range (2,number):\n",
    "    prime=True\n",
    "    for j in range(2,i-1):\n",
    "        if(i%j)==0:\n",
    "            prime=False\n",
    "            break\n",
    "    if prime==True:    \n",
    "        print(i,end=\",\")\n",
    "         "
   ]
  },
  {
   "cell_type": "markdown",
   "id": "a42f95a9-980f-448d-bb70-1b8c557091fe",
   "metadata": {},
   "source": [
    "4. Consider the following two sets, A and B, representing scores of two teams in multiple\n",
    "matches. A = {34, 56, 78, 90} and B = {78, 45, 90, 23\n",
    "WAP to perform the following operations using set functions:\n",
    "i. Find the unique scores achieved by both teams (union of sets).\n",
    "ii. Identify the scores that are common to both teams (intersection of sets).\n",
    "iii. Find the scores that are exclusive to each team (symmetric difference).\n",
    "iv. Check if the scores of team A are a subset of team B, and if team B's scores are\n",
    "a superset of team A.\n",
    "v. Remove a specific score 𝑋 (input by the user) from set A if it exists. If not, print\n",
    "a message saying it is not present."
   ]
  },
  {
   "cell_type": "code",
   "execution_count": 1,
   "id": "e73fb8ad-8018-48ee-b0f3-19073c69fa31",
   "metadata": {},
   "outputs": [
    {
     "name": "stdout",
     "output_type": "stream",
     "text": [
      "Union :\n",
      "{34, 45, 78, 23, 56, 90}\n",
      "{34, 45, 78, 23, 56, 90}\n",
      "Intersection :\n",
      "{90, 78}\n",
      "{90, 78}\n",
      "Symmetric Difference :\n",
      "{34, 45, 23, 56}\n",
      "{34, 45, 23, 56}\n",
      "A is not a subset of B\n"
     ]
    },
    {
     "name": "stdin",
     "output_type": "stream",
     "text": [
      "Enter a value 34\n"
     ]
    },
    {
     "name": "stdout",
     "output_type": "stream",
     "text": [
      "After removing  34 : {56, 90, 78}\n"
     ]
    }
   ],
   "source": [
    "A = {34, 56, 78, 90}\n",
    "B = {78, 45, 90, 23}\n",
    "\n",
    "\n",
    "# i PART\n",
    "print(\"Union :\")\n",
    "print(A.union(B))\n",
    "print(A|B)\n",
    "\n",
    "# ii PART\n",
    "print(\"Intersection :\")\n",
    "print(A.intersection(B))\n",
    "print(A&B)\n",
    "\n",
    "# iii PART\n",
    "print(\"Symmetric Difference :\")\n",
    "print(A.symmetric_difference(B))\n",
    "print(A^B)\n",
    "\n",
    "# iv PART\n",
    "check=True\n",
    "for i in A:\n",
    "    if i not in B:\n",
    "        print(\"A is not a subset of B\")\n",
    "        check=False\n",
    "        break\n",
    "if check:\n",
    "    print(\"A is subset of B\")\n",
    "\n",
    "\n",
    "# v PART\n",
    "x=int(input(\"Enter a value\"))\n",
    "if x in A:\n",
    "    A.remove(x)\n",
    "    # A.discard(x) \n",
    "    print(\"After removing \",x,\":\",A)\n",
    "else:\n",
    "    print(\"Not found\")\n",
    "\n",
    "\n"
   ]
  },
  {
   "cell_type": "markdown",
   "id": "8cffab91-dd00-4a62-81a7-8ee93dda8e7b",
   "metadata": {},
   "source": [
    "5. Write a program to rename a key city to a location in the following dictionary."
   ]
  },
  {
   "cell_type": "code",
   "execution_count": 52,
   "id": "95aaef84-7e75-4dbf-95bd-e9ca2c7630d0",
   "metadata": {},
   "outputs": [
    {
     "name": "stdout",
     "output_type": "stream",
     "text": [
      "name : Kelly\n",
      "age : 25\n",
      "salary : 8000\n",
      "location : New york\n"
     ]
    }
   ],
   "source": [
    "sample_dict={\n",
    "    \"name\":\"Kelly\",\n",
    "    \"age\":25,\n",
    "    \"salary\":8000,\n",
    "    \"city\":\"New york\"    \n",
    "}\n",
    "\n",
    "sample_dict['location']=sample_dict['city']\n",
    "del sample_dict['city'];\n",
    "\n",
    "for i,j in sample_dict.items():\n",
    "    print(i,\":\",j)\n"
   ]
  }
 ],
 "metadata": {
  "kernelspec": {
   "display_name": "Python 3 (ipykernel)",
   "language": "python",
   "name": "python3"
  },
  "language_info": {
   "codemirror_mode": {
    "name": "ipython",
    "version": 3
   },
   "file_extension": ".py",
   "mimetype": "text/x-python",
   "name": "python",
   "nbconvert_exporter": "python",
   "pygments_lexer": "ipython3",
   "version": "3.13.1"
  }
 },
 "nbformat": 4,
 "nbformat_minor": 5
}
