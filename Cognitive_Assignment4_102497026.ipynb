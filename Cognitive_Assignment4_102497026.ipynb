{
 "cells": [
  {
   "cell_type": "markdown",
   "id": "b242aa16-e47c-4dae-b13d-8d426213f803",
   "metadata": {},
   "source": [
    "# ***Assignment 4 Cognitive Computing*** \n",
    "***Shivam Kumar***\n",
    "***102497026***"
   ]
  },
  {
   "cell_type": "markdown",
   "id": "ed4d6bdb-a8d9-4812-af86-68adbcbf95da",
   "metadata": {},
   "source": [
    "***Question1***\n",
    "Write a program to create a NumPy 1D-array with 5 elements and perform basic\n",
    "operations like:\n",
    "a) Addition of 2 in all the element\n",
    "b) Multiply 3 with all the elements\n",
    "c) Divide every element by 2"
   ]
  },
  {
   "cell_type": "code",
   "execution_count": 3,
   "id": "57b9cc07-61c0-4733-9abf-21cce1516c6c",
   "metadata": {},
   "outputs": [
    {
     "name": "stdout",
     "output_type": "stream",
     "text": [
      "Original Array =  [1 2 3 4 5]\n",
      "After Addition [3 4 5 6 7]\n",
      "After Multiply [ 3  6  9 12 15]\n",
      "After Divde [0.5 1.  1.5 2.  2.5]\n"
     ]
    }
   ],
   "source": [
    "import numpy as np\n",
    "\n",
    "arr = np.array([1,2,3,4,5])\n",
    "print(\"Original Array = \",arr)\n",
    "arr_add = arr+2\n",
    "print(\"After Addition\",arr_add)\n",
    "arr_mul = arr*3\n",
    "print(\"After Multiply\",arr_mul)\n",
    "arr_div = arr/2\n",
    "print(\"After Divde\",arr_div)"
   ]
  },
  {
   "cell_type": "markdown",
   "id": "85dbcc42-2f69-4510-9cea-5c25c116f03d",
   "metadata": {},
   "source": [
    "***Question2*** \n",
    "Questions on Basic NumPy Array:\n",
    "a) Reverse the NumPy array: arr = np.array([1, 2, 3, 6, 4, 5])\n",
    "b) Find the most frequent value and their indice(s) in the following arrays:\n",
    "i. x = np.array([1,2,3,4,5,1,2,1,1,1])\n",
    "ii. y = np.array([1, 1, 1, 2, 3, 4, 2, 4, 3, 3, ])"
   ]
  },
  {
   "cell_type": "code",
   "execution_count": 5,
   "id": "361768c5-603f-45dc-a5ff-ffc71eff2af8",
   "metadata": {},
   "outputs": [
    {
     "name": "stdout",
     "output_type": "stream",
     "text": [
      "Reversed Array =  [5 4 3 2 1]\n"
     ]
    }
   ],
   "source": [
    "#a\n",
    "import numpy as np\n",
    "arr = np.array([1,2,3,4,5])\n",
    "reversed_arr = arr[::-1]\n",
    "print(\"Reversed Array = \",reversed_arr)"
   ]
  },
  {
   "cell_type": "code",
   "execution_count": 13,
   "id": "69f6f462-de58-443c-9458-57424407e325",
   "metadata": {},
   "outputs": [
    {
     "name": "stdout",
     "output_type": "stream",
     "text": [
      "Most frequent value in x =  1 at indices =  [0 5 7 8 9]\n",
      "Most frequent value in y =  1 at indices =  [0 1 2]\n"
     ]
    }
   ],
   "source": [
    "#b\n",
    "#for x array\n",
    "x = np.array([1,2,3,4,5,1,2,1,1,1])\n",
    "most_frequent_x = np.bincount(x).argmax()\n",
    "indices_x = np.where(x==most_frequent_x)[0]\n",
    "\n",
    "#for y array\n",
    "y = np.array([1,1,1,2,3,4,2,4,3,3])\n",
    "most_frequent_y = np.bincount(y).argmax()\n",
    "indices_y = np.where(y==most_frequent_y)[0]\n",
    "\n",
    "print(\"Most frequent value in x = \",most_frequent_x,\"at indices = \",indices_x)\n",
    "print(\"Most frequent value in y = \",most_frequent_y,\"at indices = \",indices_y)"
   ]
  },
  {
   "cell_type": "markdown",
   "id": "354158c9-e586-4fac-9340-e5d7fbe67fb2",
   "metadata": {},
   "source": [
    "***Question 3***\n",
    "For the given 2-D array arr=np.array([10, 20, 30], [40, 50, 60], [70, 80, 90]), access\n",
    "elements using row and column indices as follows:\n",
    "a) Access 1st row, 2nd column\n",
    "b) Access 3rd row, 1st column"
   ]
  },
  {
   "cell_type": "code",
   "execution_count": 15,
   "id": "4ea97409-caa5-4310-8a9f-6d95c5c20cd1",
   "metadata": {},
   "outputs": [
    {
     "name": "stdout",
     "output_type": "stream",
     "text": [
      "Element at (1st row and 2nd column) =  20\n",
      "Element at (3rd row and 1st column) =  70\n"
     ]
    }
   ],
   "source": [
    "import numpy as np\n",
    "\n",
    "arr = np.array([[10,20,30],[40,50,60],[70,80,90]])\n",
    "\n",
    "#a\n",
    "element1 = arr[0,1]\n",
    "\n",
    "#b\n",
    "element2 = arr[2,0]\n",
    "\n",
    "print(\"Element at (1st row and 2nd column) = \",element1)\n",
    "print(\"Element at (3rd row and 1st column) = \",element2)"
   ]
  },
  {
   "cell_type": "markdown",
   "id": "236ff4cc-ff3f-4f62-94d3-b9701bdf238c",
   "metadata": {},
   "source": [
    "***Question 4***\n",
    "Write program to create an 1-D NumPy array named <<Your Name>> with evenly\n",
    "spaced 25 numbers from 10 to 100 using linspace(). Print the dimensions of the array,\n",
    "shape, total elements, the data type of each element and total number of bytes consumed\n",
    "by the array. Find the transpose of this array using reshape() attribute. Can we do the same\n",
    "with T attribute?"
   ]
  },
  {
   "cell_type": "code",
   "execution_count": 17,
   "id": "f15fdb3c-e9b9-4f5e-be6f-a905318d539d",
   "metadata": {},
   "outputs": [
    {
     "name": "stdout",
     "output_type": "stream",
     "text": [
      "Array: [ 10.    13.75  17.5   21.25  25.    28.75  32.5   36.25  40.    43.75\n",
      "  47.5   51.25  55.    58.75  62.5   66.25  70.    73.75  77.5   81.25\n",
      "  85.    88.75  92.5   96.25 100.  ]\n",
      "Dimensions: 1\n",
      "Shape: (25,)\n",
      "Total elements: 25\n",
      "Data type: float64\n",
      "Total bytes consumed: 200\n",
      "Transpose using reshape():\n",
      " [[ 10.  ]\n",
      " [ 13.75]\n",
      " [ 17.5 ]\n",
      " [ 21.25]\n",
      " [ 25.  ]\n",
      " [ 28.75]\n",
      " [ 32.5 ]\n",
      " [ 36.25]\n",
      " [ 40.  ]\n",
      " [ 43.75]\n",
      " [ 47.5 ]\n",
      " [ 51.25]\n",
      " [ 55.  ]\n",
      " [ 58.75]\n",
      " [ 62.5 ]\n",
      " [ 66.25]\n",
      " [ 70.  ]\n",
      " [ 73.75]\n",
      " [ 77.5 ]\n",
      " [ 81.25]\n",
      " [ 85.  ]\n",
      " [ 88.75]\n",
      " [ 92.5 ]\n",
      " [ 96.25]\n",
      " [100.  ]]\n",
      "Transpose using T attribute:\n",
      " [ 10.    13.75  17.5   21.25  25.    28.75  32.5   36.25  40.    43.75\n",
      "  47.5   51.25  55.    58.75  62.5   66.25  70.    73.75  77.5   81.25\n",
      "  85.    88.75  92.5   96.25 100.  ]\n"
     ]
    }
   ],
   "source": [
    "import numpy as np\n",
    "\n",
    "# Creating 1D array with evenly spaced 25 numbers from 10 to 100\n",
    "shivam_kumar = np.linspace(10, 100, 25)\n",
    "\n",
    "# Printing properties\n",
    "print(\"Array:\", shivam_kumar)\n",
    "print(\"Dimensions:\", shivam_kumar.ndim)\n",
    "print(\"Shape:\", shivam_kumar.shape)\n",
    "print(\"Total elements:\", shivam_kumar.size)\n",
    "print(\"Data type:\", shivam_kumar.dtype)\n",
    "print(\"Total bytes consumed:\", shivam_kumar.nbytes)\n",
    "\n",
    "# Finding transpose using reshape()\n",
    "transposed_shivam_kumar = shivam_kumar.reshape(25, 1)\n",
    "\n",
    "# Checking if we can use T attribute\n",
    "transposed_T = shivam_kumar.T\n",
    "\n",
    "print(\"Transpose using reshape():\\n\", transposed_shivam_kumar)\n",
    "print(\"Transpose using T attribute:\\n\", transposed_T)"
   ]
  },
  {
   "cell_type": "markdown",
   "id": "62a3a24a-12f0-4f61-93c5-27d44f1375aa",
   "metadata": {},
   "source": [
    "***Question 5***\n",
    "Create a 2-D Array of three rows and four columns, named ucs420_<your_name>>\n",
    "with following values – 10, 20, 30, 40, 50, 60, 70, 80, 90, 15, 20, 35. Compute the mean,\n",
    "median, max, min, unique elements. Reshape the array to four rows and three columns and\n",
    "name it as reshaped_ ucs420_<your_name>>. Resize the array to two rows and three\n",
    "columns and name it as resized_ ucs420_<your_name>>."
   ]
  },
  {
   "cell_type": "code",
   "execution_count": 19,
   "id": "3b62f834-ea81-4879-94f2-ca2af7e6b82b",
   "metadata": {},
   "outputs": [
    {
     "name": "stdout",
     "output_type": "stream",
     "text": [
      "Mean: 43.333333333333336\n",
      "Median: 37.5\n",
      "Max Value: 90\n",
      "Min Value: 10\n",
      "Unique Elements: [10 15 20 30 35 40 50 60 70 80 90]\n",
      "Reshaped Array (4x3):\n",
      " [[10 20 30]\n",
      " [40 50 60]\n",
      " [70 80 90]\n",
      " [15 20 35]]\n",
      "Resized Array (2x3):\n",
      " [[10 20 30]\n",
      " [40 50 60]]\n"
     ]
    }
   ],
   "source": [
    "import numpy as np\n",
    "\n",
    "# Creating a 2D array\n",
    "ucs420_shivam = np.array([[10, 20, 30, 40], [50, 60, 70, 80], [90, 15, 20, 35]])\n",
    "\n",
    "# Computing statistics\n",
    "mean_val = np.mean(ucs420_shivam)\n",
    "median_val = np.median(ucs420_shivam)\n",
    "max_val = np.max(ucs420_shivam)\n",
    "min_val = np.min(ucs420_shivam)\n",
    "unique_elements = np.unique(ucs420_shivam)\n",
    "\n",
    "print(\"Mean:\", mean_val)\n",
    "print(\"Median:\", median_val)\n",
    "print(\"Max Value:\", max_val)\n",
    "print(\"Min Value:\", min_val)\n",
    "print(\"Unique Elements:\", unique_elements)\n",
    "\n",
    "# Reshaping to 4x3\n",
    "reshaped_ucs420_shivam = ucs420_shivam.reshape(4, 3)\n",
    "print(\"Reshaped Array (4x3):\\n\", reshaped_ucs420_shivam)\n",
    "\n",
    "# Resizing to 2x3\n",
    "resized_ucs420_shivam = np.resize(ucs420_shivam, (2, 3))\n",
    "print(\"Resized Array (2x3):\\n\", resized_ucs420_shivam)"
   ]
  }
 ],
 "metadata": {
  "kernelspec": {
   "display_name": "Python 3 (ipykernel)",
   "language": "python",
   "name": "python3"
  },
  "language_info": {
   "codemirror_mode": {
    "name": "ipython",
    "version": 3
   },
   "file_extension": ".py",
   "mimetype": "text/x-python",
   "name": "python",
   "nbconvert_exporter": "python",
   "pygments_lexer": "ipython3",
   "version": "3.13.1"
  }
 },
 "nbformat": 4,
 "nbformat_minor": 5
}
